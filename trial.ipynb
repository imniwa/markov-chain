{
 "cells": [
  {
   "cell_type": "code",
   "execution_count": 1,
   "metadata": {},
   "outputs": [],
   "source": [
    "import pandas as pd\n",
    "import numpy as np\n",
    "from itertools import tee, islice, chain"
   ]
  },
  {
   "cell_type": "code",
   "execution_count": 2,
   "metadata": {},
   "outputs": [],
   "source": [
    "data = pd.read_excel('DataKubisKur.xlsx')"
   ]
  },
  {
   "cell_type": "code",
   "execution_count": 9,
   "metadata": {},
   "outputs": [
    {
     "data": {
      "text/plain": [
       "array([46310. , 15831. , 54384.2, 67970. , 67720.1, 65048.3, 66469. ,\n",
       "        9237. , 28880. , 31306. , 40356. , 49745. , 55478. , 63627. ,\n",
       "       47676. , 39616. , 57919. , 58449. , 66520. , 50453. , 56136. ,\n",
       "       59868. ])"
      ]
     },
     "execution_count": 9,
     "metadata": {},
     "output_type": "execute_result"
    }
   ],
   "source": [
    "data.values[:,1]"
   ]
  },
  {
   "cell_type": "code",
   "execution_count": 14,
   "metadata": {},
   "outputs": [
    {
     "data": {
      "text/plain": [
       "numpy.float64"
      ]
     },
     "execution_count": 14,
     "metadata": {},
     "output_type": "execute_result"
    }
   ],
   "source": [
    "type(data.values[:,0][0])"
   ]
  },
  {
   "cell_type": "code",
   "execution_count": 21,
   "metadata": {},
   "outputs": [
    {
     "data": {
      "image/png": "[encoded data removed]",
      "text/plain": [
       "<Figure size 640x480 with 1 Axes>"
      ]
     },
     "metadata": {},
     "output_type": "display_data"
    }
   ],
   "source": [
    "import matplotlib.pyplot as plt\n",
    "# plt.figure(figsize=(25,25), dpi=100)\n",
    "plt.bar(data.values[:,0],data.values[:,1])\n",
    "plt.show()"
   ]
  },
  {
   "cell_type": "code",
   "execution_count": 3,
   "metadata": {},
   "outputs": [],
   "source": [
    "def previous_and_next(some_iterable):\n",
    "    prevs, items, nexts = tee(some_iterable, 3)\n",
    "    prevs = chain([None], prevs)\n",
    "    nexts = chain(islice(nexts, 1, None), [None])\n",
    "    return zip(prevs, items, nexts)"
   ]
  },
  {
   "cell_type": "code",
   "execution_count": 4,
   "metadata": {},
   "outputs": [],
   "source": [
    "def labeling(produksi:list[int|float]|np.ndarray):\n",
    "    min, max = produksi.min(), produksi.max()\n",
    "    range_data = (max - min)/3\n",
    "    label = []\n",
    "    for x in produksi:\n",
    "        if x < min+range_data:\n",
    "            label.append('S')\n",
    "        elif min+range_data <= x < min+range_data*2:\n",
    "            label.append('C')\n",
    "        elif x > min+range_data*2:\n",
    "            label.append('B')\n",
    "    return np.array(label)"
   ]
  },
  {
   "cell_type": "code",
   "execution_count": 5,
   "metadata": {},
   "outputs": [],
   "source": [
    "def probabilitas_awal(label:np.ndarray):\n",
    "    unique_val, count = np.unique(label,return_counts=True)\n",
    "    count = [round(x/count.sum(),4) for x in count]\n",
    "    return np.flip(unique_val), np.flip(count)"
   ]
  },
  {
   "cell_type": "code",
   "execution_count": 8,
   "metadata": {},
   "outputs": [],
   "source": [
    "def matrix_transisi(label:np.ndarray):\n",
    "    transisi = np.zeros((3,3))\n",
    "    for _, item, nxt in previous_and_next(label):\n",
    "        if nxt is None :\n",
    "            continue\n",
    "        ps = ['S','C','B'].index(item)\n",
    "        pd = ['S','C','B'].index(nxt)\n",
    "        transisi[ps][pd] += 1\n",
    "    for i,y in enumerate(transisi):\n",
    "        row_total = y.sum()\n",
    "        for j,x in enumerate(y):\n",
    "            transisi[i][j] = round(x/row_total,4)\n",
    "    return transisi"
   ]
  },
  {
   "cell_type": "code",
   "execution_count": 100,
   "metadata": {},
   "outputs": [],
   "source": [
    "def find_steady_state(prob_awal:np.ndarray,transisi:np.ndarray,max_iteration:int=100):\n",
    "    new_prob = [round(x,4) for x in np.matmul(prob_awal,transisi)]\n",
    "    prev_val,streak,i = new_prob,0,0\n",
    "    while i < max_iteration:\n",
    "        new_prob = [round(x,4) for x in np.matmul(new_prob,transisi)]\n",
    "        if np.all(np.equal(prev_val,new_prob)):\n",
    "            streak += 1\n",
    "        else:\n",
    "            streak = 0\n",
    "\n",
    "        if streak > 3:\n",
    "            return True, new_prob\n",
    "        \n",
    "        prev_val = new_prob\n",
    "        i += 1\n",
    "\n",
    "    return False, None"
   ]
  },
  {
   "cell_type": "code",
   "execution_count": 98,
   "metadata": {},
   "outputs": [],
   "source": [
    "data = pd.read_excel('DataKubisKur.xlsx')\n",
    "tahun = data.values[:,0]\n",
    "produksi = data.values[:,1]\n",
    "a = labeling(produksi)\n",
    "label, prob_a = probabilitas_awal(a)\n",
    "transisi = matrix_transisi(a)\n",
    "find_steady_state(prob_a,transisi)"
   ]
  }
 ],
 "metadata": {
  "kernelspec": {
   "display_name": "uni",
   "language": "python",
   "name": "python3"
  },
  "language_info": {
   "codemirror_mode": {
    "name": "ipython",
    "version": 3
   },
   "file_extension": ".py",
   "mimetype": "text/x-python",
   "name": "python",
   "nbconvert_exporter": "python",
   "pygments_lexer": "ipython3",
   "version": "3.10.9"
  },
  "orig_nbformat": 4
 },
 "nbformat": 4,
 "nbformat_minor": 2
}
